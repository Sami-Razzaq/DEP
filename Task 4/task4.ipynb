{
 "cells": [
  {
   "cell_type": "code",
   "execution_count": 1,
   "id": "42830fe3",
   "metadata": {
    "execution": {
     "iopub.execute_input": "2024-07-31T09:20:00.896751Z",
     "iopub.status.busy": "2024-07-31T09:20:00.896126Z",
     "iopub.status.idle": "2024-07-31T09:20:00.900225Z",
     "shell.execute_reply": "2024-07-31T09:20:00.899513Z"
    },
    "papermill": {
     "duration": 0.012436,
     "end_time": "2024-07-31T09:20:00.902080",
     "exception": false,
     "start_time": "2024-07-31T09:20:00.889644",
     "status": "completed"
    },
    "tags": []
   },
   "outputs": [],
   "source": [
    "# Build a natural language processing (NLP) model to perform sentiment analysis on social media posts or product reviews\n",
    "# This File is built and run on Kaggle Notebook"
   ]
  },
  {
   "cell_type": "code",
   "execution_count": 2,
   "id": "999cb312",
   "metadata": {
    "_cell_guid": "b1076dfc-b9ad-4769-8c92-a6c4dae69d19",
    "_uuid": "8f2839f25d086af736a60e9eeb907d3b93b6e0e5",
    "execution": {
     "iopub.execute_input": "2024-07-31T09:20:00.912756Z",
     "iopub.status.busy": "2024-07-31T09:20:00.912500Z",
     "iopub.status.idle": "2024-07-31T09:20:14.308649Z",
     "shell.execute_reply": "2024-07-31T09:20:14.307677Z"
    },
    "papermill": {
     "duration": 13.404006,
     "end_time": "2024-07-31T09:20:14.311043",
     "exception": false,
     "start_time": "2024-07-31T09:20:00.907037",
     "status": "completed"
    },
    "tags": []
   },
   "outputs": [
    {
     "name": "stderr",
     "output_type": "stream",
     "text": [
      "2024-07-31 09:20:03.360600: E external/local_xla/xla/stream_executor/cuda/cuda_dnn.cc:9261] Unable to register cuDNN factory: Attempting to register factory for plugin cuDNN when one has already been registered\n",
      "2024-07-31 09:20:03.360754: E external/local_xla/xla/stream_executor/cuda/cuda_fft.cc:607] Unable to register cuFFT factory: Attempting to register factory for plugin cuFFT when one has already been registered\n",
      "2024-07-31 09:20:03.490858: E external/local_xla/xla/stream_executor/cuda/cuda_blas.cc:1515] Unable to register cuBLAS factory: Attempting to register factory for plugin cuBLAS when one has already been registered\n"
     ]
    }
   ],
   "source": [
    "import os\n",
    "import pandas as pd\n",
    "import numpy as np\n",
    "import bz2\n",
    "import re\n",
    "import tensorflow as tf\n",
    "from tensorflow.keras import models, layers, optimizers\n",
    "from tensorflow.keras.callbacks import EarlyStopping\n",
    "from sklearn.model_selection import train_test_split\n",
    "from sklearn.metrics import accuracy_score, precision_score, recall_score, f1_score, confusion_matrix, classification_report, ConfusionMatrixDisplay\n",
    "from tensorflow.keras.preprocessing.text import Tokenizer\n",
    "from tensorflow.keras.preprocessing.sequence import pad_sequences\n",
    "import matplotlib.pyplot as plt\n",
    "import seaborn as sns\n",
    "import warnings\n",
    "\n",
    "warnings.filterwarnings('ignore')"
   ]
  },
  {
   "cell_type": "code",
   "execution_count": 3,
   "id": "b7fd6aef",
   "metadata": {
    "execution": {
     "iopub.execute_input": "2024-07-31T09:20:14.322817Z",
     "iopub.status.busy": "2024-07-31T09:20:14.322354Z",
     "iopub.status.idle": "2024-07-31T09:20:14.326441Z",
     "shell.execute_reply": "2024-07-31T09:20:14.325650Z"
    },
    "papermill": {
     "duration": 0.01168,
     "end_time": "2024-07-31T09:20:14.328253",
     "exception": false,
     "start_time": "2024-07-31T09:20:14.316573",
     "status": "completed"
    },
    "tags": []
   },
   "outputs": [],
   "source": [
    "# File paths for the dataset\n",
    "train_path = '/kaggle/input/amazonreviews/train.ft.txt.bz2'\n",
    "test_path = '/kaggle/input/amazonreviews/test.ft.txt.bz2'"
   ]
  },
  {
   "cell_type": "code",
   "execution_count": 4,
   "id": "db7d1436",
   "metadata": {
    "execution": {
     "iopub.execute_input": "2024-07-31T09:20:14.338884Z",
     "iopub.status.busy": "2024-07-31T09:20:14.338621Z",
     "iopub.status.idle": "2024-07-31T09:20:14.344792Z",
     "shell.execute_reply": "2024-07-31T09:20:14.343974Z"
    },
    "papermill": {
     "duration": 0.013721,
     "end_time": "2024-07-31T09:20:14.346669",
     "exception": false,
     "start_time": "2024-07-31T09:20:14.332948",
     "status": "completed"
    },
    "tags": []
   },
   "outputs": [],
   "source": [
    "def assign_labels_and_comments(file, max_lines=None):\n",
    "    \"\"\"\n",
    "    Assign labels and comments from the dataset file.\n",
    "\n",
    "    Parameters:\n",
    "    file (str): Path to the file.\n",
    "    max_lines (int): Maximum number of lines to read from the file.\n",
    "\n",
    "    Returns:\n",
    "    tuple: Numpy array of labels and list of comments.\n",
    "    \"\"\"\n",
    "    labels = []\n",
    "    comments = []\n",
    "    for i, line in enumerate(bz2.BZ2File(file)):\n",
    "        if max_lines and i >= max_lines:\n",
    "            break\n",
    "        x = line.decode(\"utf-8\")\n",
    "        labels.append(int(x[9]) - 1)  # Label is the 10th character, converting '2' to 1 and '1' to 0\n",
    "        comments.append(x[10:].strip())  # Comment starts from the 11th character\n",
    "    return np.array(labels), comments"
   ]
  },
  {
   "cell_type": "code",
   "execution_count": 5,
   "id": "bd505239",
   "metadata": {
    "execution": {
     "iopub.execute_input": "2024-07-31T09:20:14.357182Z",
     "iopub.status.busy": "2024-07-31T09:20:14.356908Z",
     "iopub.status.idle": "2024-07-31T09:20:39.626296Z",
     "shell.execute_reply": "2024-07-31T09:20:39.625496Z"
    },
    "papermill": {
     "duration": 25.277511,
     "end_time": "2024-07-31T09:20:39.628923",
     "exception": false,
     "start_time": "2024-07-31T09:20:14.351412",
     "status": "completed"
    },
    "tags": []
   },
   "outputs": [],
   "source": [
    "# Load and preprocess the dataset\n",
    "train_labels, train_comments = assign_labels_and_comments(train_path, max_lines=500000)\n",
    "test_labels, test_comments = assign_labels_and_comments(test_path)"
   ]
  },
  {
   "cell_type": "code",
   "execution_count": 6,
   "id": "34cc55de",
   "metadata": {
    "execution": {
     "iopub.execute_input": "2024-07-31T09:20:39.640797Z",
     "iopub.status.busy": "2024-07-31T09:20:39.640455Z",
     "iopub.status.idle": "2024-07-31T09:20:39.646360Z",
     "shell.execute_reply": "2024-07-31T09:20:39.645453Z"
    },
    "papermill": {
     "duration": 0.013783,
     "end_time": "2024-07-31T09:20:39.648279",
     "exception": false,
     "start_time": "2024-07-31T09:20:39.634496",
     "status": "completed"
    },
    "tags": []
   },
   "outputs": [],
   "source": [
    "def processed_comments(texts):\n",
    "    \"\"\"\n",
    "    Process comments by converting to lowercase, removing punctuation, and non-ASCII characters.\n",
    "\n",
    "    Parameters:\n",
    "    texts (list): List of text comments.\n",
    "\n",
    "    Returns:\n",
    "    list: List of processed comments.\n",
    "    \"\"\"\n",
    "    not_alphanumeric = re.compile(r'[\\W]')\n",
    "    not_ascii = re.compile(r'[^a-z0-9\\s]')\n",
    "    processed_comments = []\n",
    "    for text in texts:\n",
    "        lower = text.lower()\n",
    "        no_punctuation = not_alphanumeric.sub(r' ', lower)\n",
    "        no_non_ascii = not_ascii.sub(r'', no_punctuation)\n",
    "        processed_comments.append(no_non_ascii)\n",
    "    return processed_comments"
   ]
  },
  {
   "cell_type": "code",
   "execution_count": 7,
   "id": "b050ef12",
   "metadata": {
    "execution": {
     "iopub.execute_input": "2024-07-31T09:20:39.659017Z",
     "iopub.status.busy": "2024-07-31T09:20:39.658758Z",
     "iopub.status.idle": "2024-07-31T09:21:20.081992Z",
     "shell.execute_reply": "2024-07-31T09:21:20.081225Z"
    },
    "papermill": {
     "duration": 40.431336,
     "end_time": "2024-07-31T09:21:20.084327",
     "exception": false,
     "start_time": "2024-07-31T09:20:39.652991",
     "status": "completed"
    },
    "tags": []
   },
   "outputs": [],
   "source": [
    "train_comments = processed_comments(train_comments)\n",
    "test_comments = processed_comments(test_comments)"
   ]
  },
  {
   "cell_type": "code",
   "execution_count": 8,
   "id": "3d4e5fb7",
   "metadata": {
    "execution": {
     "iopub.execute_input": "2024-07-31T09:21:20.095611Z",
     "iopub.status.busy": "2024-07-31T09:21:20.095350Z",
     "iopub.status.idle": "2024-07-31T09:21:20.288664Z",
     "shell.execute_reply": "2024-07-31T09:21:20.287743Z"
    },
    "papermill": {
     "duration": 0.201739,
     "end_time": "2024-07-31T09:21:20.291251",
     "exception": false,
     "start_time": "2024-07-31T09:21:20.089512",
     "status": "completed"
    },
    "tags": []
   },
   "outputs": [],
   "source": [
    "# Split the training data into training and validation sets\n",
    "train_comments, val_comments, train_labels, val_labels = train_test_split(train_comments, train_labels, random_state=42, test_size=0.2)"
   ]
  },
  {
   "cell_type": "code",
   "execution_count": 9,
   "id": "97122e82",
   "metadata": {
    "execution": {
     "iopub.execute_input": "2024-07-31T09:21:20.302431Z",
     "iopub.status.busy": "2024-07-31T09:21:20.302115Z",
     "iopub.status.idle": "2024-07-31T09:21:50.091493Z",
     "shell.execute_reply": "2024-07-31T09:21:50.090653Z"
    },
    "papermill": {
     "duration": 29.797296,
     "end_time": "2024-07-31T09:21:50.093722",
     "exception": false,
     "start_time": "2024-07-31T09:21:20.296426",
     "status": "completed"
    },
    "tags": []
   },
   "outputs": [],
   "source": [
    "# Tokenization and padding\n",
    "max_words = 20000  # Maximum number of words to keep, based on word frequency\n",
    "max_sequence_length = 300  # Maximum length of the sequences\n",
    "tokenizer = Tokenizer(num_words=max_words)\n",
    "tokenizer.fit_on_texts(train_comments)"
   ]
  },
  {
   "cell_type": "code",
   "execution_count": 10,
   "id": "70b831ac",
   "metadata": {
    "execution": {
     "iopub.execute_input": "2024-07-31T09:21:50.104864Z",
     "iopub.status.busy": "2024-07-31T09:21:50.104571Z",
     "iopub.status.idle": "2024-07-31T09:22:51.412379Z",
     "shell.execute_reply": "2024-07-31T09:22:51.411545Z"
    },
    "papermill": {
     "duration": 61.316105,
     "end_time": "2024-07-31T09:22:51.414815",
     "exception": false,
     "start_time": "2024-07-31T09:21:50.098710",
     "status": "completed"
    },
    "tags": []
   },
   "outputs": [],
   "source": [
    "X_train = tokenizer.texts_to_sequences(train_comments)\n",
    "X_val = tokenizer.texts_to_sequences(val_comments)\n",
    "X_test = tokenizer.texts_to_sequences(test_comments)\n",
    "\n",
    "X_train = pad_sequences(X_train, maxlen=max_sequence_length)\n",
    "X_val = pad_sequences(X_val, maxlen=max_sequence_length)\n",
    "X_test = pad_sequences(X_test, maxlen=max_sequence_length)"
   ]
  },
  {
   "cell_type": "code",
   "execution_count": 11,
   "id": "8bd87cad",
   "metadata": {
    "execution": {
     "iopub.execute_input": "2024-07-31T09:22:51.427522Z",
     "iopub.status.busy": "2024-07-31T09:22:51.427225Z",
     "iopub.status.idle": "2024-07-31T09:22:51.432827Z",
     "shell.execute_reply": "2024-07-31T09:22:51.432103Z"
    },
    "papermill": {
     "duration": 0.014528,
     "end_time": "2024-07-31T09:22:51.434722",
     "exception": false,
     "start_time": "2024-07-31T09:22:51.420194",
     "status": "completed"
    },
    "tags": []
   },
   "outputs": [],
   "source": [
    "y_train = np.array(train_labels)\n",
    "y_val = np.array(val_labels)\n",
    "y_test = np.array(test_labels)"
   ]
  },
  {
   "cell_type": "code",
   "execution_count": 12,
   "id": "712d1b51",
   "metadata": {
    "execution": {
     "iopub.execute_input": "2024-07-31T09:22:51.445117Z",
     "iopub.status.busy": "2024-07-31T09:22:51.444849Z",
     "iopub.status.idle": "2024-07-31T09:22:52.243382Z",
     "shell.execute_reply": "2024-07-31T09:22:52.242541Z"
    },
    "papermill": {
     "duration": 0.806364,
     "end_time": "2024-07-31T09:22:52.245765",
     "exception": false,
     "start_time": "2024-07-31T09:22:51.439401",
     "status": "completed"
    },
    "tags": []
   },
   "outputs": [],
   "source": [
    "def create_model(optimizer, activation_function, lstm_layers):\n",
    "    \"\"\"\n",
    "    Create and compile a LSTM model.\n",
    "\n",
    "    Parameters:\n",
    "    optimizer (tf.keras.optimizers): Optimizer for the model.\n",
    "    activation_function (str): Activation function for the output layer.\n",
    "    lstm_layers (int): Number of LSTM layers.\n",
    "\n",
    "    Returns:\n",
    "    tf.keras.Model: Compiled LSTM model.\n",
    "    \"\"\"\n",
    "    model = models.Sequential()\n",
    "    model.add(layers.Embedding(input_dim=max_words, output_dim=128, input_length=max_sequence_length))\n",
    "    for _ in range(lstm_layers):\n",
    "        model.add(layers.Bidirectional(layers.LSTM(128, return_sequences=True))) \n",
    "        model.add(layers.Dropout(0.3))  \n",
    "    model.add(layers.LSTM(128, return_sequences=False))\n",
    "    model.add(layers.Dense(1, activation=activation_function))  \n",
    "    model.compile(loss='binary_crossentropy', optimizer=optimizer, metrics=['accuracy']) \n",
    "    return model\n",
    "\n",
    "# Configurations for the model training\n",
    "configurations = [\n",
    "    {\"optimizer\": optimizers.Adam(learning_rate=0.001), \"activation_function\": 'sigmoid', \"lstm_layers\": 2},\n",
    "    {\"optimizer\": optimizers.Adam(learning_rate=0.001), \"activation_function\": 'relu', \"lstm_layers\": 3},\n",
    "]\n",
    "\n",
    "results = []\n",
    "early_stopping = EarlyStopping(monitor='val_loss', patience=3, restore_best_weights=True)"
   ]
  },
  {
   "cell_type": "code",
   "execution_count": 13,
   "id": "80a264e7",
   "metadata": {
    "execution": {
     "iopub.execute_input": "2024-07-31T09:22:52.257185Z",
     "iopub.status.busy": "2024-07-31T09:22:52.256903Z",
     "iopub.status.idle": "2024-07-31T10:34:19.228770Z",
     "shell.execute_reply": "2024-07-31T10:34:19.227792Z"
    },
    "papermill": {
     "duration": 4286.979689,
     "end_time": "2024-07-31T10:34:19.230745",
     "exception": false,
     "start_time": "2024-07-31T09:22:52.251056",
     "status": "completed"
    },
    "tags": []
   },
   "outputs": [
    {
     "name": "stdout",
     "output_type": "stream",
     "text": [
      "Training from Config: {'optimizer': <keras.src.optimizers.adam.Adam object at 0x7cfba680f010>, 'activation_function': 'sigmoid', 'lstm_layers': 2}\n",
      "Epoch 1/5\n",
      "\u001b[1m1563/1563\u001b[0m \u001b[32m━━━━━━━━━━━━━━━━━━━━\u001b[0m\u001b[37m\u001b[0m \u001b[1m383s\u001b[0m 240ms/step - accuracy: 0.8547 - loss: 0.3253 - val_accuracy: 0.9302 - val_loss: 0.1810\n",
      "Epoch 2/5\n",
      "\u001b[1m1563/1563\u001b[0m \u001b[32m━━━━━━━━━━━━━━━━━━━━\u001b[0m\u001b[37m\u001b[0m \u001b[1m380s\u001b[0m 243ms/step - accuracy: 0.9430 - loss: 0.1550 - val_accuracy: 0.9371 - val_loss: 0.1711\n",
      "Epoch 3/5\n",
      "\u001b[1m1563/1563\u001b[0m \u001b[32m━━━━━━━━━━━━━━━━━━━━\u001b[0m\u001b[37m\u001b[0m \u001b[1m380s\u001b[0m 243ms/step - accuracy: 0.9562 - loss: 0.1234 - val_accuracy: 0.9360 - val_loss: 0.1888\n",
      "Epoch 4/5\n",
      "\u001b[1m1563/1563\u001b[0m \u001b[32m━━━━━━━━━━━━━━━━━━━━\u001b[0m\u001b[37m\u001b[0m \u001b[1m380s\u001b[0m 243ms/step - accuracy: 0.9661 - loss: 0.1002 - val_accuracy: 0.9349 - val_loss: 0.2007\n",
      "Epoch 5/5\n",
      "\u001b[1m1563/1563\u001b[0m \u001b[32m━━━━━━━━━━━━━━━━━━━━\u001b[0m\u001b[37m\u001b[0m \u001b[1m380s\u001b[0m 243ms/step - accuracy: 0.9744 - loss: 0.0786 - val_accuracy: 0.9307 - val_loss: 0.2015\n",
      "\u001b[1m12500/12500\u001b[0m \u001b[32m━━━━━━━━━━━━━━━━━━━━\u001b[0m\u001b[37m\u001b[0m \u001b[1m279s\u001b[0m 22ms/step - accuracy: 0.9348 - loss: 0.1767\n",
      "Loss: 0.17465738952159882, Accuracy: 0.9353125095367432\n",
      "Training from Config: {'optimizer': <keras.src.optimizers.adam.Adam object at 0x7cfba680e200>, 'activation_function': 'relu', 'lstm_layers': 3}\n",
      "Epoch 1/5\n",
      "\u001b[1m1563/1563\u001b[0m \u001b[32m━━━━━━━━━━━━━━━━━━━━\u001b[0m\u001b[37m\u001b[0m \u001b[1m560s\u001b[0m 354ms/step - accuracy: 0.7248 - loss: 0.5903 - val_accuracy: 0.9090 - val_loss: 0.2444\n",
      "Epoch 2/5\n",
      "\u001b[1m1563/1563\u001b[0m \u001b[32m━━━━━━━━━━━━━━━━━━━━\u001b[0m\u001b[37m\u001b[0m \u001b[1m560s\u001b[0m 353ms/step - accuracy: 0.9066 - loss: 0.2575 - val_accuracy: 0.8342 - val_loss: 0.4140\n",
      "Epoch 3/5\n",
      "\u001b[1m1563/1563\u001b[0m \u001b[32m━━━━━━━━━━━━━━━━━━━━\u001b[0m\u001b[37m\u001b[0m \u001b[1m551s\u001b[0m 353ms/step - accuracy: 0.9224 - loss: 0.2199 - val_accuracy: 0.9273 - val_loss: 0.1877\n",
      "\u001b[1m12500/12500\u001b[0m \u001b[32m━━━━━━━━━━━━━━━━━━━━\u001b[0m\u001b[37m\u001b[0m \u001b[1m391s\u001b[0m 31ms/step - accuracy: 0.9074 - loss: 0.2519\n",
      "Loss: 0.2502460181713104, Accuracy: 0.9077450037002563\n"
     ]
    }
   ],
   "source": [
    "# Train and evaluate the models based on different configurations\n",
    "for config in configurations:\n",
    "    print(f\"Training from Config: {config}\")\n",
    "    model = create_model(config[\"optimizer\"], config[\"activation_function\"], config[\"lstm_layers\"])\n",
    "    history = model.fit(X_train, y_train, epochs=5, batch_size=256, validation_data=(X_val, y_val), callbacks=[early_stopping], verbose=1)\n",
    "    \n",
    "    loss, accuracy = model.evaluate(X_test, y_test)\n",
    "    print(f\"Loss: {loss}, Accuracy: {accuracy}\")\n",
    "    \n",
    "    results.append({\"config\": config, \"loss\": loss, \"accuracy\": accuracy})"
   ]
  },
  {
   "cell_type": "code",
   "execution_count": 14,
   "id": "d2567780",
   "metadata": {
    "execution": {
     "iopub.execute_input": "2024-07-31T10:34:23.030905Z",
     "iopub.status.busy": "2024-07-31T10:34:23.030043Z",
     "iopub.status.idle": "2024-07-31T10:40:51.525775Z",
     "shell.execute_reply": "2024-07-31T10:40:51.524941Z"
    },
    "papermill": {
     "duration": 392.831538,
     "end_time": "2024-07-31T10:40:53.994401",
     "exception": false,
     "start_time": "2024-07-31T10:34:21.162863",
     "status": "completed"
    },
    "tags": []
   },
   "outputs": [
    {
     "name": "stdout",
     "output_type": "stream",
     "text": [
      "\u001b[1m12500/12500\u001b[0m \u001b[32m━━━━━━━━━━━━━━━━━━━━\u001b[0m\u001b[37m\u001b[0m \u001b[1m380s\u001b[0m 30ms/step\n"
     ]
    },
    {
     "data": {
      "image/png": "[encoded data removed]",
      "text/plain": [
       "<Figure size 640x480 with 2 Axes>"
      ]
     },
     "metadata": {},
     "output_type": "display_data"
    }
   ],
   "source": [
    "# Predictions and evaluation\n",
    "predictions = (model.predict(X_test) > 0.5).astype(\"int32\")\n",
    "conf_matrix = confusion_matrix(y_test, predictions)\n",
    "ConfusionMatrixDisplay(conf_matrix).plot()\n",
    "plt.show()"
   ]
  },
  {
   "cell_type": "code",
   "execution_count": 15,
   "id": "038aeb25",
   "metadata": {
    "execution": {
     "iopub.execute_input": "2024-07-31T10:40:59.000445Z",
     "iopub.status.busy": "2024-07-31T10:40:58.999708Z",
     "iopub.status.idle": "2024-07-31T10:40:59.158996Z",
     "shell.execute_reply": "2024-07-31T10:40:59.158049Z"
    },
    "papermill": {
     "duration": 2.609727,
     "end_time": "2024-07-31T10:40:59.161081",
     "exception": false,
     "start_time": "2024-07-31T10:40:56.551354",
     "status": "completed"
    },
    "tags": []
   },
   "outputs": [
    {
     "name": "stdout",
     "output_type": "stream",
     "text": [
      "              precision    recall  f1-score   support\n",
      "\n",
      "           0       0.89      0.93      0.91    200000\n",
      "           1       0.92      0.89      0.91    200000\n",
      "\n",
      "    accuracy                           0.91    400000\n",
      "   macro avg       0.91      0.91      0.91    400000\n",
      "weighted avg       0.91      0.91      0.91    400000\n",
      "\n"
     ]
    }
   ],
   "source": [
    "print(classification_report(y_test, predictions))"
   ]
  },
  {
   "cell_type": "code",
   "execution_count": 16,
   "id": "cfe41e8d",
   "metadata": {
    "execution": {
     "iopub.execute_input": "2024-07-31T10:41:03.947281Z",
     "iopub.status.busy": "2024-07-31T10:41:03.946922Z",
     "iopub.status.idle": "2024-07-31T10:41:04.069935Z",
     "shell.execute_reply": "2024-07-31T10:41:04.068940Z"
    },
    "papermill": {
     "duration": 2.571625,
     "end_time": "2024-07-31T10:41:04.072021",
     "exception": false,
     "start_time": "2024-07-31T10:41:01.500396",
     "status": "completed"
    },
    "tags": []
   },
   "outputs": [
    {
     "name": "stdout",
     "output_type": "stream",
     "text": [
      "Accuracy: 0.91\n",
      "Precision: 0.92\n",
      "Recall: 0.89\n",
      "F1 Score: 0.91\n"
     ]
    }
   ],
   "source": [
    "accuracy = accuracy_score(y_test, predictions)\n",
    "precision = precision_score(y_test, predictions)\n",
    "recall = recall_score(y_test, predictions)\n",
    "f1 = f1_score(y_test, predictions)\n",
    "\n",
    "rounded_accuracy = round(accuracy, 2)\n",
    "rounded_precision = round(precision, 2)\n",
    "rounded_recall = round(recall, 2)\n",
    "rounded_f1 = round(f1, 2)\n",
    "\n",
    "print(f\"Accuracy: {rounded_accuracy}\")\n",
    "print(f\"Precision: {rounded_precision}\")\n",
    "print(f\"Recall: {rounded_recall}\")\n",
    "print(f\"F1 Score: {rounded_f1}\")"
   ]
  }
 ],
 "metadata": {
  "kaggle": {
   "accelerator": "nvidiaTeslaT4",
   "dataSources": [
    {
     "datasetId": 1305,
     "sourceId": 800230,
     "sourceType": "datasetVersion"
    }
   ],
   "dockerImageVersionId": 30733,
   "isGpuEnabled": true,
   "isInternetEnabled": false,
   "language": "python",
   "sourceType": "notebook"
  },
  "kernelspec": {
   "display_name": "Python 3",
   "language": "python",
   "name": "python3"
  },
  "language_info": {
   "codemirror_mode": {
    "name": "ipython",
    "version": 3
   },
   "file_extension": ".py",
   "mimetype": "text/x-python",
   "name": "python",
   "nbconvert_exporter": "python",
   "pygments_lexer": "ipython3",
   "version": "3.8.19"
  },
  "papermill": {
   "default_parameters": {},
   "duration": 4870.858883,
   "end_time": "2024-07-31T10:41:09.018579",
   "environment_variables": {},
   "exception": null,
   "input_path": "__notebook__.ipynb",
   "output_path": "__notebook__.ipynb",
   "parameters": {},
   "start_time": "2024-07-31T09:19:58.159696",
   "version": "2.5.0"
  }
 },
 "nbformat": 4,
 "nbformat_minor": 5
}
