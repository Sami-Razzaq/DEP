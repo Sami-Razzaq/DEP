{
  "cells": [
    {
      "cell_type": "code",
      "execution_count": 22,
      "metadata": {
        "id": "-cwa2l0MsuDZ"
      },
      "outputs": [],
      "source": [
        "# Build a natural language processing (NLP) model to perform sentiment analysis on social media posts or product reviews\n",
        "# This File is built and run on Google Colab\n",
        "# Dataset is Amazon Reviews, containting over 36"
      ]
    },
    {
      "cell_type": "code",
      "execution_count": 1,
      "metadata": {
        "_cell_guid": "b1076dfc-b9ad-4769-8c92-a6c4dae69d19",
        "_uuid": "8f2839f25d086af736a60e9eeb907d3b93b6e0e5",
        "id": "yH_uGbaBoWZT",
        "trusted": true
      },
      "outputs": [],
      "source": [
        "import bz2\n",
        "from tqdm import tqdm\n",
        "import re\n",
        "import pandas as pd\n",
        "import numpy as np\n",
        "import matplotlib.pyplot as plt\n",
        "import seaborn as sns\n",
        "from sklearn.metrics import confusion_matrix\n",
        "from sklearn.metrics import classification_report\n",
        "from wordcloud import WordCloud\n",
        "from sklearn.metrics import confusion_matrix,classification_report\n",
        "from nltk.sentiment.vader import SentimentIntensityAnalyzer\n",
        "from tensorflow.keras.preprocessing.text import Tokenizer\n",
        "from tensorflow.keras.preprocessing.sequence import pad_sequences\n",
        "from tensorflow.keras.models import Sequential\n",
        "from tensorflow.keras.layers import Dense,LSTM,SpatialDropout1D,Embedding\n",
        "from keras.callbacks import ModelCheckpoint\n",
        "import pickle"
      ]
    },
    {
      "cell_type": "code",
      "execution_count": 2,
      "metadata": {
        "colab": {
          "base_uri": "https://localhost:8080/"
        },
        "id": "ksVvrRzOpqcg",
        "outputId": "d70f9a61-c369-44ac-ee65-1cc53ecf81f5"
      },
      "outputs": [
        {
          "name": "stdout",
          "output_type": "stream",
          "text": [
            "Dataset URL: https://www.kaggle.com/datasets/bittlingmayer/amazonreviews\n",
            "License(s): unknown\n",
            "Downloading amazonreviews.zip to /content\n",
            " 96% 473M/493M [00:03<00:00, 215MB/s]\n",
            "100% 493M/493M [00:03<00:00, 147MB/s]\n",
            "Archive:  amazonreviews.zip\n",
            "  inflating: test.ft.txt.bz2         \n",
            "  inflating: train.ft.txt.bz2        \n"
          ]
        }
      ],
      "source": [
        "!kaggle datasets download -d bittlingmayer/amazonreviews\n",
        "!unzip amazonreviews.zip"
      ]
    },
    {
      "cell_type": "code",
      "execution_count": 4,
      "metadata": {
        "_cell_guid": "79c7e3d0-c299-4dcb-8224-4455121ee9b0",
        "_uuid": "d629ff2d2480ee46fbb7e2d37f6b5fab8052498a",
        "id": "voMCUKnmoWZV",
        "trusted": true
      },
      "outputs": [],
      "source": [
        "# Reading the text\n",
        "\n",
        "def get_labels_and_texts(file):\n",
        "    labels = []\n",
        "    texts = []\n",
        "    for line in bz2.BZ2File(file):\n",
        "        x = line.decode(\"utf-8\")\n",
        "        labels.append(int(x[9]) - 1)\n",
        "        texts.append(x[10:].strip())\n",
        "    return np.array(labels), texts\n",
        "train_labels, train_texts = get_labels_and_texts('/content/train.ft.txt.bz2')\n",
        "test_labels, test_texts = get_labels_and_texts('/content/test.ft.txt.bz2')"
      ]
    },
    {
      "cell_type": "code",
      "execution_count": 36,
      "metadata": {
        "id": "MW0hN3KXZzIb"
      },
      "outputs": [],
      "source": [
        "train_texts = train_texts[:500000]\n",
        "train_labels = train_labels[:500000]\n",
        "test_texts = test_texts[:100000]\n",
        "test_labels = test_labels[:100000]"
      ]
    },
    {
      "cell_type": "code",
      "execution_count": 37,
      "metadata": {
        "colab": {
          "base_uri": "https://localhost:8080/"
        },
        "id": "TGVI6jrzsX_g",
        "outputId": "b243a134-2185-4c59-c2e3-5ecb2aad0224"
      },
      "outputs": [
        {
          "name": "stdout",
          "output_type": "stream",
          "text": [
            "Train Length 100000\n",
            "Train Label Length 100000\n",
            "Test Length 20000\n",
            "Test Label Length 20000\n"
          ]
        }
      ],
      "source": [
        "# Print the data amount\n",
        "\n",
        "print('Train Length',len(train_texts))\n",
        "print('Train Label Length',len(train_labels))\n",
        "print('Test Length',len(test_texts))\n",
        "print('Test Label Length',len(test_labels))"
      ]
    },
    {
      "cell_type": "code",
      "execution_count": 38,
      "metadata": {
        "colab": {
          "base_uri": "https://localhost:8080/",
          "height": 127
        },
        "id": "mqABaHXyqwgo",
        "outputId": "282031de-eea7-4c37-e846-9e93b1acb50f"
      },
      "outputs": [
        {
          "name": "stdout",
          "output_type": "stream",
          "text": [
            "1\n"
          ]
        },
        {
          "data": {
            "application/vnd.google.colaboratory.intrinsic+json": {
              "type": "string"
            },
            "text/plain": [
              "\"an absolute masterpiece: I am quite sure any of you actually taking the time to read this have played the game at least once, and heard at least a few of the tracks here. And whether you were aware of it or not, Mitsuda's music contributed greatly to the mood of every single minute of the whole game.Composed of 3 CDs and quite a few songs (I haven't an exact count), all of which are heart-rendering and impressively remarkable, this soundtrack is one I assure you you will not forget. It has everything for every listener -- from fast-paced and energetic (Dancing the Tokage or Termina Home), to slower and more haunting (Dragon God), to purely beautifully composed (Time's Scar), to even some fantastic vocals (Radical Dreamers).This is one of the best videogame soundtracks out there, and surely Mitsuda's best ever. ^_^\""
            ]
          },
          "execution_count": 38,
          "metadata": {},
          "output_type": "execute_result"
        }
      ],
      "source": [
        "# Check any train data value\n",
        "\n",
        "# Label = 0: Negative\n",
        "# Label = 1: Positive\n",
        "\n",
        "n=5\n",
        "print(train_labels[n])\n",
        "train_texts[n]"
      ]
    },
    {
      "cell_type": "code",
      "execution_count": 39,
      "metadata": {
        "id": "gkEzxiW0r-qV"
      },
      "outputs": [],
      "source": [
        "# Cleaning the data\n",
        "\n",
        "def clean_text(text):\n",
        "    # Remove non-alphanumeric characters and extra whitespace\n",
        "    text = re.sub(r'[^a-zA-Z\\s]', '', text)\n",
        "    # Convert multiple whitespace characters to a single space\n",
        "    text = re.sub(r'\\s+', ' ', text)\n",
        "    # Lower Case Text\n",
        "    text = text.lower()\n",
        "    return text"
      ]
    },
    {
      "cell_type": "code",
      "execution_count": 52,
      "metadata": {
        "colab": {
          "base_uri": "https://localhost:8080/",
          "height": 449
        },
        "id": "GBSPEkd8u-sG",
        "outputId": "90388b7e-d03d-43fe-9257-9186dd9370cb"
      },
      "outputs": [
        {
          "data": {
            "text/html": [
              "<table border=\"1\" class=\"dataframe\">\n",
              "  <thead>\n",
              "    <tr style=\"text-align: right;\">\n",
              "      <th></th>\n",
              "      <th>0</th>\n",
              "    </tr>\n",
              "  </thead>\n",
              "  <tbody>\n",
              "    <tr>\n",
              "      <th>0</th>\n",
              "      <td>stuning even for the nongamer this sound track was beautiful it paints the senery in your mind so well i would recomend it even to people who hate vid game music i have played the game chrono cross but out of all of the games i have ever played it has the best music it backs away from crude keyboarding and takes a fresher step with grate guitars and soulful orchestras it would impress anyone who cares to listen</td>\n",
              "    </tr>\n",
              "    <tr>\n",
              "      <th>1</th>\n",
              "      <td>the best soundtrack ever to anything im reading a lot of reviews saying that this is the best game soundtrack and i figured that id write a review to disagree a bit this in my opinino is yasunori mitsudas ultimate masterpiece the music is timeless and im been listening to it for years now and its beauty simply refuses to fadethe price tag on this is pretty staggering i must say but if you are going to buy any cd for this much money this is the only one that i feel would be worth every penny</td>\n",
              "    </tr>\n",
              "    <tr>\n",
              "      <th>2</th>\n",
              "      <td>amazing this soundtrack is my favorite music of all time hands down the intense sadness of prisoners of fate which means all the more if youve played the game and the hope in a distant promise and girl who stole the star have been an important inspiration to me personally throughout my teen years the higher energy tracks like chrono cross times scar time of the dreamwatch and chronomantique indefinably remeniscent of chrono trigger are all absolutely superb as wellthis soundtrack is amazing music probably the best of this composers work i havent heard the xenogears soundtrack so i cant say for sure and even if youve never played the game it would be worth twice the price to buy iti wish i could give it stars</td>\n",
              "    </tr>\n",
              "    <tr>\n",
              "      <th>3</th>\n",
              "      <td>excellent soundtrack i truly like this soundtrack and i enjoy video game music i have played this game and most of the music on here i enjoy and its truly relaxing and peacefulon disk one my favorites are scars of time between life and death forest of illusion fortress of ancient dragons lost fragment and drowned valleydisk two the draggons galdorb home chronomantique prisoners of fate gale and my girlfriend likes zelbessdisk three the best of the three garden of god chronopolis fates jellyfish sea burning orphange dragons prayer tower of stars dragon god and radical dreamers unstealable jeweloverall this is a excellent soundtrack and should be brought by those that like video game musicxander cross</td>\n",
              "    </tr>\n",
              "    <tr>\n",
              "      <th>4</th>\n",
              "      <td>remember pull your jaw off the floor after hearing it if youve played the game you know how divine the music is every single song tells a story of the game its that good the greatest songs are without a doubt chrono cross times scar magical dreamers the wind the stars and the sea and radical dreamers unstolen jewel translation varies this music is perfect if you ask me the best it can be yasunori mitsuda just poured his heart on and wrote it down on paper</td>\n",
              "    </tr>\n",
              "  </tbody>\n",
              "</table><br><label><b>dtype:</b> object</label>"
            ],
            "text/plain": [
              "0    stuning even for the nongamer this sound track...\n",
              "1    the best soundtrack ever to anything im readin...\n",
              "2    amazing this soundtrack is my favorite music o...\n",
              "3    excellent soundtrack i truly like this soundtr...\n",
              "4    remember pull your jaw off the floor after hea...\n",
              "Name: 0, dtype: object"
            ]
          },
          "execution_count": 52,
          "metadata": {},
          "output_type": "execute_result"
        }
      ],
      "source": [
        "# Convert Data to Dataframe\n",
        "\n",
        "train=pd.DataFrame(train_texts)[0].apply(clean_text)\n",
        "test=pd.DataFrame(test_texts)[0].apply(clean_text)\n",
        "train.head()"
      ]
    },
    {
      "cell_type": "code",
      "execution_count": 54,
      "metadata": {
        "id": "1j2dF0PTvXyr"
      },
      "outputs": [],
      "source": [
        "voc_size = 20000\n",
        "max_length = 100\n",
        "tokenizer = Tokenizer(num_words=voc_size)\n",
        "tokenizer.fit_on_texts(train)"
      ]
    },
    {
      "cell_type": "code",
      "execution_count": 55,
      "metadata": {
        "id": "a62ZdQ4Xy4B-"
      },
      "outputs": [],
      "source": [
        "word_index = tokenizer.word_index\n",
        "with open('/content/tokenizer.pkl', 'wb') as f:\n",
        "    pickle.dump(tokenizer, f)"
      ]
    },
    {
      "cell_type": "code",
      "execution_count": 56,
      "metadata": {
        "id": "rE0oULqOw11c"
      },
      "outputs": [],
      "source": [
        "# Convert data to sequences for the model\n",
        "\n",
        "train = tokenizer.texts_to_sequences(train)\n",
        "train = pad_sequences(train, maxlen=max_length)\n",
        "test = tokenizer.texts_to_sequences(test)\n",
        "test = pad_sequences(test, maxlen=max_length)"
      ]
    },
    {
      "cell_type": "code",
      "execution_count": 57,
      "metadata": {
        "id": "kpzbuFdCw7MK"
      },
      "outputs": [],
      "source": [
        "train_lab=np.array([1 if i=='2' else 0 for i in train_labels])\n",
        "test_lab=np.array([1 if i=='2' else 0 for i in test_labels])"
      ]
    },
    {
      "cell_type": "code",
      "execution_count": 58,
      "metadata": {
        "colab": {
          "base_uri": "https://localhost:8080/"
        },
        "id": "DgBLIM0Nw74Z",
        "outputId": "7357e1aa-7d6b-4dd4-9d72-5effb8f8e241"
      },
      "outputs": [
        {
          "name": "stdout",
          "output_type": "stream",
          "text": [
            "Model: \"sequential_2\"\n",
            "_________________________________________________________________\n",
            " Layer (type)                Output Shape              Param #   \n",
            "=================================================================\n",
            " embedding_2 (Embedding)     (None, 100, 64)           1280000   \n",
            "                                                                 \n",
            " lstm_4 (LSTM)               (None, 100, 32)           12416     \n",
            "                                                                 \n",
            " spatial_dropout1d_2 (Spati  (None, 100, 32)           0         \n",
            " alDropout1D)                                                    \n",
            "                                                                 \n",
            " lstm_5 (LSTM)               (None, 32)                8320      \n",
            "                                                                 \n",
            " dense_2 (Dense)             (None, 1)                 33        \n",
            "                                                                 \n",
            "=================================================================\n",
            "Total params: 1300769 (4.96 MB)\n",
            "Trainable params: 1300769 (4.96 MB)\n",
            "Non-trainable params: 0 (0.00 Byte)\n",
            "_________________________________________________________________\n"
          ]
        }
      ],
      "source": [
        "# Define the model, I have used LSTM (Long Short Term Memory) model for NLP Task\n",
        "\n",
        "model = Sequential()\n",
        "model.add(Embedding(input_dim=voc_size, output_dim=64, input_length=max_length))\n",
        "model.add(LSTM(units=32, return_sequences=True))\n",
        "model.add(SpatialDropout1D(rate=0.2))\n",
        "model.add(LSTM(units=32))\n",
        "model.add(Dense(1,activation='sigmoid'))\n",
        "model.summary()"
      ]
    },
    {
      "cell_type": "code",
      "execution_count": 59,
      "metadata": {
        "colab": {
          "base_uri": "https://localhost:8080/"
        },
        "id": "Zt8BL1c3xMlg",
        "outputId": "4b5c9add-e66f-4671-d7ec-ddd64264ba8a"
      },
      "outputs": [
        {
          "name": "stdout",
          "output_type": "stream",
          "text": [
            "2813/2813 [==============================] - 307s 107ms/step - loss: 0.0035 - accuracy: 0.9998 - val_loss: 1.6906e-05 - val_accuracy: 1.0000\n"
          ]
        },
        {
          "name": "stderr",
          "output_type": "stream",
          "text": [
            "/usr/local/lib/python3.10/dist-packages/keras/src/engine/training.py:3103: UserWarning: You are saving your model as an HDF5 file via `model.save()`. This file format is considered legacy. We recommend using instead the native Keras format, e.g. `model.save('my_model.keras')`.\n",
            "  saving_api.save_model(\n"
          ]
        }
      ],
      "source": [
        "# Start training\n",
        "\n",
        "checkpoint_cb =ModelCheckpoint(\"amazon_model.h5\", save_best_only=True)\n",
        "model.compile(loss='binary_crossentropy',optimizer='adam',metrics=['accuracy'])\n",
        "history = model.fit(train, train_lab, epochs=1,\n",
        "                    validation_split=.1,\n",
        "                    callbacks=[checkpoint_cb])"
      ]
    },
    {
      "cell_type": "code",
      "execution_count": 60,
      "metadata": {
        "colab": {
          "base_uri": "https://localhost:8080/"
        },
        "id": "CxiBEhbZxNTj",
        "outputId": "3eb6aad8-d6cb-45a8-f49f-495f8782f5b5"
      },
      "outputs": [
        {
          "name": "stdout",
          "output_type": "stream",
          "text": [
            "625/625 [==============================] - 15s 24ms/step - loss: 1.6906e-05 - accuracy: 1.0000\n",
            "Loss: 1.6905813026824035e-05\n",
            "Accuracy: 1.0\n"
          ]
        }
      ],
      "source": [
        "# Print Loss & Accuracy\n",
        "\n",
        "loss,accuracy = model.evaluate(test, test_lab)\n",
        "print(\"Loss:\", loss)\n",
        "print(\"Accuracy:\", accuracy)"
      ]
    },
    {
      "cell_type": "code",
      "execution_count": null,
      "metadata": {
        "id": "xqKwg8kLxPcj"
      },
      "outputs": [],
      "source": [
        "pd.DataFrame(history.history)"
      ]
    },
    {
      "cell_type": "code",
      "execution_count": 61,
      "metadata": {
        "colab": {
          "base_uri": "https://localhost:8080/"
        },
        "id": "PxXzXcGsxSav",
        "outputId": "42de71e6-cafb-4cd5-b03e-373ba26c8fa6"
      },
      "outputs": [
        {
          "name": "stdout",
          "output_type": "stream",
          "text": [
            "625/625 [==============================] - 27s 41ms/step\n"
          ]
        }
      ],
      "source": [
        "prediction=model.predict(test)\n",
        "y_pred=np.where(prediction>=.5,1,0)\n",
        "results=pd.DataFrame()\n",
        "results['actual'], results['pred']=test_lab, y_pred"
      ]
    },
    {
      "cell_type": "code",
      "execution_count": 62,
      "metadata": {
        "colab": {
          "base_uri": "https://localhost:8080/"
        },
        "id": "7G14QnOwd40u",
        "outputId": "9ad7ba32-63f9-4c4b-a690-7d674c2d54a6"
      },
      "outputs": [
        {
          "name": "stdout",
          "output_type": "stream",
          "text": [
            "1/1 [==============================] - 1s 1s/step\n"
          ]
        },
        {
          "data": {
            "text/plain": [
              "array([[0]])"
            ]
          },
          "execution_count": 62,
          "metadata": {},
          "output_type": "execute_result"
        }
      ],
      "source": [
        "text = \"WARNING: This is the worst book ever written: As most people readers know, Jack Higgins has written many fine action-packed books. However, this book reads like a twelve-year-old wrote it. The characters are so transparent they could be ghosts.The author and his publishing house must really need the money to rip of the public in this manner. This is the last book I read by this author. One can only rest on his laurels for so long. I'm glad this book was handed down to me or I would have written a really nasty review.\"\n",
        "text = clean_text(text)\n",
        "text = tokenizer.texts_to_sequences([text])\n",
        "text = pad_sequences(text, maxlen=max_length)\n",
        "prediction = model.predict(text)\n",
        "y_pred=np.where(prediction>=.5,1,0)\n",
        "y_pred"
      ]
    },
    {
      "cell_type": "code",
      "execution_count": null,
      "metadata": {
        "id": "IZtSftBmfsf6"
      },
      "outputs": [],
      "source": []
    }
  ],
  "metadata": {
    "colab": {
      "provenance": []
    },
    "kernelspec": {
      "display_name": "Python 3",
      "language": "python",
      "name": "python3"
    },
    "language_info": {
      "codemirror_mode": {
        "name": "ipython",
        "version": 3
      },
      "file_extension": ".py",
      "mimetype": "text/x-python",
      "name": "python",
      "nbconvert_exporter": "python",
      "pygments_lexer": "ipython3",
      "version": "3.6.4"
    }
  },
  "nbformat": 4,
  "nbformat_minor": 0
}
