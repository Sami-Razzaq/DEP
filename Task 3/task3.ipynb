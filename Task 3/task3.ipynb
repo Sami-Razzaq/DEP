{
  "cells": [
    {
      "cell_type": "code",
      "execution_count": 1,
      "metadata": {
        "id": "KvxuwiPsGVfL"
      },
      "outputs": [],
      "source": [
        "# Create a neural network from scratch using Python and NumPy to classify handwritten digits from the MNIST dataset."
      ]
    },
    {
      "cell_type": "code",
      "execution_count": 2,
      "metadata": {
        "id": "vmp-3u7OGVfQ"
      },
      "outputs": [],
      "source": [
        "import numpy as np\n",
        "import pandas as pd\n",
        "import os\n",
        "import struct\n",
        "import matplotlib.pyplot as plt\n",
        "import random"
      ]
    },
    {
      "cell_type": "code",
      "execution_count": null,
      "metadata": {
        "colab": {
          "base_uri": "https://localhost:8080/"
        },
        "id": "27DGFtC7QVkL",
        "outputId": "78c40bd3-22eb-4737-b055-2ad8e668034a"
      },
      "outputs": [],
      "source": [
        "# ! pip install kaggle\n",
        "# !kaggle datasets download -d oddrationale/mnist-in-csv"
      ]
    },
    {
      "cell_type": "code",
      "execution_count": null,
      "metadata": {
        "colab": {
          "base_uri": "https://localhost:8080/"
        },
        "id": "MS63sDpDQoVm",
        "outputId": "a46c1d68-6137-487d-d4e7-38e9a4be5d47"
      },
      "outputs": [],
      "source": [
        "# !unzip ./mnist-in-csv.zip"
      ]
    },
    {
      "cell_type": "code",
      "execution_count": 3,
      "metadata": {
        "colab": {
          "base_uri": "https://localhost:8080/",
          "height": 235
        },
        "id": "xAQu0qLPStVL",
        "outputId": "85f31d20-48bc-4cfa-f795-24de246a31b4"
      },
      "outputs": [],
      "source": [
        "train = pd.read_csv(\"mnist_train.csv\")\n",
        "test = pd.read_csv(\"mnist_test.csv\")"
      ]
    },
    {
      "cell_type": "code",
      "execution_count": 4,
      "metadata": {
        "id": "cMzUqmXWUW3S"
      },
      "outputs": [],
      "source": [
        "trainLabels = train['label']\n",
        "trainImages = train.drop(['label'], axis=1)\n",
        "testLabels = train['label']\n",
        "testImages = train.drop(['label'], axis=1)\n",
        "\n",
        "trainImages = np.array(trainImages)\n",
        "testImages = np.array(testImages)\n",
        "trainLabels = np.array(trainLabels)\n",
        "testLabels = np.array(testLabels)\n",
        "trainImages = trainImages.reshape(-1, 28, 28)\n",
        "testImages = testImages.reshape(-1, 28, 28)"
      ]
    },
    {
      "cell_type": "code",
      "execution_count": 5,
      "metadata": {
        "id": "M03eNEaIGVfT"
      },
      "outputs": [],
      "source": [
        "# Display an image from dataset\n",
        "def displayImage(image, label=None):\n",
        "    plt.imshow(image, cmap='gray')\n",
        "    plt.title(f'Label: {label}')\n",
        "    plt.axis('off')\n",
        "    plt.show()"
      ]
    },
    {
      "cell_type": "code",
      "execution_count": 6,
      "metadata": {
        "colab": {
          "base_uri": "https://localhost:8080/",
          "height": 428
        },
        "id": "KGBYTepWGVfT",
        "outputId": "b8e8afa3-542f-4786-c3d4-7e32282a141e"
      },
      "outputs": [
        {
          "data": {
            "image/png": "[encoded data removed]",
            "text/plain": [
              "<Figure size 640x480 with 1 Axes>"
            ]
          },
          "metadata": {},
          "output_type": "display_data"
        }
      ],
      "source": [
        "n = 20 # Any Image number\n",
        "displayImage(trainImages[n], trainLabels[n])"
      ]
    },
    {
      "cell_type": "code",
      "execution_count": 7,
      "metadata": {
        "colab": {
          "base_uri": "https://localhost:8080/"
        },
        "id": "fzCCF72ZGVfU",
        "outputId": "7a664ddb-f826-4b71-c824-94705946d52a"
      },
      "outputs": [
        {
          "data": {
            "text/plain": [
              "((50000, 28, 28), (10000, 28, 28))"
            ]
          },
          "execution_count": 7,
          "metadata": {},
          "output_type": "execute_result"
        }
      ],
      "source": [
        "# Split data into Train & Validation\n",
        "\n",
        "rand=np.arange(60000)\n",
        "np.random.shuffle(rand)\n",
        "train_no=rand[:50000]\n",
        "\n",
        "val_no=np.setdiff1d(rand,train_no)\n",
        "\n",
        "trainImages, valImages = trainImages[train_no,:,:], trainImages[val_no,:,:]\n",
        "trainLabels, valLabels = trainLabels[train_no], trainLabels[val_no]\n",
        "\n",
        "trainImages.shape, valImages.shape"
      ]
    },
    {
      "cell_type": "code",
      "execution_count": 8,
      "metadata": {
        "id": "7Jg8QrNjGVfW"
      },
      "outputs": [],
      "source": [
        "# Our Neural Network consists of 3 layers:\n",
        "\n",
        "class NeuralNetwork:\n",
        "    def __init__(self, input_size, hidden_size1, hidden_size2, output_size):\n",
        "        self.input_size = input_size\n",
        "        self.hidden_size1 = hidden_size1\n",
        "        self.hidden_size2 = hidden_size2\n",
        "        self.output_size = output_size\n",
        "\n",
        "        # Initialize weights\n",
        "        self.W1 = np.random.randn(input_size, hidden_size1) * 0.01\n",
        "        self.b1 = np.zeros((1, hidden_size1))\n",
        "        self.W2 = np.random.randn(hidden_size1, hidden_size2) * 0.01\n",
        "        self.b2 = np.zeros((1, hidden_size2))\n",
        "        self.W3 = np.random.randn(hidden_size2, output_size) * 0.01\n",
        "        self.b3 = np.zeros((1, output_size))\n",
        "\n",
        "    def sigmoid(self, z):\n",
        "        return 1 / (1 + np.exp(-z))\n",
        "\n",
        "    def sigmoid_derivative(self, z):\n",
        "        return z * (1 - z)\n",
        "\n",
        "    def relu(self, z):\n",
        "        return np.maximum(0, z)\n",
        "\n",
        "    def relu_derivative(self, z):\n",
        "        return (z > 0).astype(float)\n",
        "\n",
        "    def softmax(self, z):\n",
        "        exp_z = np.exp(z - np.max(z, axis=1, keepdims=True))\n",
        "        return exp_z / np.sum(exp_z, axis=1, keepdims=True)\n",
        "\n",
        "    def cross_entropy_loss(self, y_true, y_pred):\n",
        "        m = y_true.shape[0]\n",
        "        log_likelihood = -np.log(y_pred[np.arange(m), y_true])\n",
        "        loss = np.sum(log_likelihood) / m\n",
        "        return loss\n",
        "\n",
        "    def forward(self, X):\n",
        "        X = X.reshape(X.shape[0], -1)  # Flatten the input\n",
        "        self.Z1 = np.dot(X, self.W1) + self.b1\n",
        "        self.A1 = self.relu(self.Z1)\n",
        "        self.Z2 = np.dot(self.A1, self.W2) + self.b2\n",
        "        self.A2 = self.relu(self.Z2)\n",
        "        self.Z3 = np.dot(self.A2, self.W3) + self.b3\n",
        "        self.A3 = self.softmax(self.Z3)\n",
        "        return self.A3\n",
        "\n",
        "    def backward(self, X, y, output, learning_rate):\n",
        "        X = X.reshape(X.shape[0], -1)  # Flatten the input\n",
        "        m = X.shape[0]\n",
        "        y_one_hot = np.zeros((m, self.output_size))\n",
        "        y_one_hot[np.arange(m), y] = 1\n",
        "\n",
        "        dZ3 = output - y_one_hot\n",
        "        dW3 = np.dot(self.A2.T, dZ3) / m\n",
        "        db3 = np.sum(dZ3, axis=0, keepdims=True) / m\n",
        "\n",
        "        dA2 = np.dot(dZ3, self.W3.T)\n",
        "        dZ2 = dA2 * self.relu_derivative(self.A2)\n",
        "        dW2 = np.dot(self.A1.T, dZ2) / m\n",
        "        db2 = np.sum(dZ2, axis=0, keepdims=True) / m\n",
        "\n",
        "        dA1 = np.dot(dZ2, self.W2.T)\n",
        "        dZ1 = dA1 * self.relu_derivative(self.A1)\n",
        "        dW1 = np.dot(X.T, dZ1) / m\n",
        "        db1 = np.sum(dZ1, axis=0, keepdims=True) / m\n",
        "\n",
        "        # Update weights\n",
        "        self.W1 -= learning_rate * dW1\n",
        "        self.b1 -= learning_rate * db1\n",
        "        self.W2 -= learning_rate * dW2\n",
        "        self.b2 -= learning_rate * db2\n",
        "        self.W3 -= learning_rate * dW3\n",
        "        self.b3 -= learning_rate * db3\n",
        "\n",
        "    def predict(self, X):\n",
        "        output = self.forward(X)\n",
        "        return np.argmax(output, axis=1)"
      ]
    },
    {
      "cell_type": "code",
      "execution_count": 13,
      "metadata": {
        "colab": {
          "base_uri": "https://localhost:8080/"
        },
        "id": "nTQfJiksGVfW",
        "outputId": "bea4b500-a49e-47f9-986b-94dcf27886f8"
      },
      "outputs": [
        {
          "name": "stdout",
          "output_type": "stream",
          "text": [
            "Epoch 1/250, Training Loss: 2.3153 | Test accuracy: 7.20%\n",
            "Epoch 2/250, Training Loss: 2.3058 | Test accuracy: 9.56%\n",
            "Epoch 3/250, Training Loss: 2.2966 | Test accuracy: 12.52%\n",
            "Epoch 4/250, Training Loss: 2.2876 | Test accuracy: 16.43%\n",
            "Epoch 5/250, Training Loss: 2.2786 | Test accuracy: 20.92%\n",
            "Epoch 6/250, Training Loss: 2.2696 | Test accuracy: 25.54%\n",
            "Epoch 7/250, Training Loss: 2.2605 | Test accuracy: 29.62%\n",
            "Epoch 8/250, Training Loss: 2.2512 | Test accuracy: 33.05%\n",
            "Epoch 9/250, Training Loss: 2.2416 | Test accuracy: 35.85%\n",
            "Epoch 10/250, Training Loss: 2.2316 | Test accuracy: 37.94%\n",
            "Epoch 11/250, Training Loss: 2.2212 | Test accuracy: 39.58%\n",
            "Epoch 12/250, Training Loss: 2.2103 | Test accuracy: 40.91%\n",
            "Epoch 13/250, Training Loss: 2.1988 | Test accuracy: 41.93%\n",
            "Epoch 14/250, Training Loss: 2.1867 | Test accuracy: 42.79%\n",
            "Epoch 15/250, Training Loss: 2.1738 | Test accuracy: 43.53%\n",
            "Epoch 16/250, Training Loss: 2.1602 | Test accuracy: 44.19%\n",
            "Epoch 17/250, Training Loss: 2.1456 | Test accuracy: 44.87%\n",
            "Epoch 18/250, Training Loss: 2.1302 | Test accuracy: 45.61%\n",
            "Epoch 19/250, Training Loss: 2.1138 | Test accuracy: 46.23%\n",
            "Epoch 20/250, Training Loss: 2.0963 | Test accuracy: 46.97%\n",
            "Epoch 21/250, Training Loss: 2.0777 | Test accuracy: 47.72%\n",
            "Epoch 22/250, Training Loss: 2.0580 | Test accuracy: 48.47%\n",
            "Epoch 23/250, Training Loss: 2.0372 | Test accuracy: 49.31%\n",
            "Epoch 24/250, Training Loss: 2.0151 | Test accuracy: 50.23%\n",
            "Epoch 25/250, Training Loss: 1.9918 | Test accuracy: 51.24%\n",
            "Epoch 26/250, Training Loss: 1.9673 | Test accuracy: 52.21%\n",
            "Epoch 27/250, Training Loss: 1.9416 | Test accuracy: 53.22%\n",
            "Epoch 28/250, Training Loss: 1.9146 | Test accuracy: 54.30%\n",
            "Epoch 29/250, Training Loss: 1.8865 | Test accuracy: 55.32%\n",
            "Epoch 30/250, Training Loss: 1.8571 | Test accuracy: 56.31%\n",
            "Epoch 31/250, Training Loss: 1.8266 | Test accuracy: 57.17%\n",
            "Epoch 32/250, Training Loss: 1.7950 | Test accuracy: 58.01%\n",
            "Epoch 33/250, Training Loss: 1.7623 | Test accuracy: 58.78%\n",
            "Epoch 34/250, Training Loss: 1.7287 | Test accuracy: 59.62%\n",
            "Epoch 35/250, Training Loss: 1.6941 | Test accuracy: 60.48%\n",
            "Epoch 36/250, Training Loss: 1.6588 | Test accuracy: 61.30%\n",
            "Epoch 37/250, Training Loss: 1.6229 | Test accuracy: 62.22%\n",
            "Epoch 38/250, Training Loss: 1.5865 | Test accuracy: 63.11%\n",
            "Epoch 39/250, Training Loss: 1.5497 | Test accuracy: 63.94%\n",
            "Epoch 40/250, Training Loss: 1.5128 | Test accuracy: 64.86%\n",
            "Epoch 41/250, Training Loss: 1.4760 | Test accuracy: 65.82%\n",
            "Epoch 42/250, Training Loss: 1.4394 | Test accuracy: 66.78%\n",
            "Epoch 43/250, Training Loss: 1.4031 | Test accuracy: 67.76%\n",
            "Epoch 44/250, Training Loss: 1.3675 | Test accuracy: 68.69%\n",
            "Epoch 45/250, Training Loss: 1.3325 | Test accuracy: 69.66%\n",
            "Epoch 46/250, Training Loss: 1.2984 | Test accuracy: 70.53%\n",
            "Epoch 47/250, Training Loss: 1.2653 | Test accuracy: 71.40%\n",
            "Epoch 48/250, Training Loss: 1.2331 | Test accuracy: 72.22%\n",
            "Epoch 49/250, Training Loss: 1.2021 | Test accuracy: 73.07%\n",
            "Epoch 50/250, Training Loss: 1.1723 | Test accuracy: 73.81%\n",
            "Epoch 51/250, Training Loss: 1.1436 | Test accuracy: 74.48%\n",
            "Epoch 52/250, Training Loss: 1.1161 | Test accuracy: 75.08%\n",
            "Epoch 53/250, Training Loss: 1.0898 | Test accuracy: 75.64%\n",
            "Epoch 54/250, Training Loss: 1.0646 | Test accuracy: 76.17%\n",
            "Epoch 55/250, Training Loss: 1.0405 | Test accuracy: 76.61%\n",
            "Epoch 56/250, Training Loss: 1.0175 | Test accuracy: 77.00%\n",
            "Epoch 57/250, Training Loss: 0.9956 | Test accuracy: 77.41%\n",
            "Epoch 58/250, Training Loss: 0.9746 | Test accuracy: 77.79%\n",
            "Epoch 59/250, Training Loss: 0.9546 | Test accuracy: 78.16%\n",
            "Epoch 60/250, Training Loss: 0.9354 | Test accuracy: 78.50%\n",
            "Epoch 61/250, Training Loss: 0.9172 | Test accuracy: 78.78%\n",
            "Epoch 62/250, Training Loss: 0.8997 | Test accuracy: 79.08%\n",
            "Epoch 63/250, Training Loss: 0.8830 | Test accuracy: 79.38%\n",
            "Epoch 64/250, Training Loss: 0.8670 | Test accuracy: 79.66%\n",
            "Epoch 65/250, Training Loss: 0.8517 | Test accuracy: 79.93%\n",
            "Epoch 66/250, Training Loss: 0.8370 | Test accuracy: 80.14%\n",
            "Epoch 67/250, Training Loss: 0.8230 | Test accuracy: 80.40%\n",
            "Epoch 68/250, Training Loss: 0.8095 | Test accuracy: 80.62%\n",
            "Epoch 69/250, Training Loss: 0.7966 | Test accuracy: 80.83%\n",
            "Epoch 70/250, Training Loss: 0.7841 | Test accuracy: 81.01%\n",
            "Epoch 71/250, Training Loss: 0.7722 | Test accuracy: 81.20%\n",
            "Epoch 72/250, Training Loss: 0.7608 | Test accuracy: 81.42%\n",
            "Epoch 73/250, Training Loss: 0.7497 | Test accuracy: 81.62%\n",
            "Epoch 74/250, Training Loss: 0.7391 | Test accuracy: 81.80%\n",
            "Epoch 75/250, Training Loss: 0.7289 | Test accuracy: 81.94%\n",
            "Epoch 76/250, Training Loss: 0.7191 | Test accuracy: 82.10%\n",
            "Epoch 77/250, Training Loss: 0.7096 | Test accuracy: 82.25%\n",
            "Epoch 78/250, Training Loss: 0.7004 | Test accuracy: 82.42%\n",
            "Epoch 79/250, Training Loss: 0.6916 | Test accuracy: 82.57%\n",
            "Epoch 80/250, Training Loss: 0.6831 | Test accuracy: 82.72%\n",
            "Epoch 81/250, Training Loss: 0.6749 | Test accuracy: 82.86%\n",
            "Epoch 82/250, Training Loss: 0.6669 | Test accuracy: 83.01%\n",
            "Epoch 83/250, Training Loss: 0.6592 | Test accuracy: 83.16%\n",
            "Epoch 84/250, Training Loss: 0.6518 | Test accuracy: 83.30%\n",
            "Epoch 85/250, Training Loss: 0.6446 | Test accuracy: 83.47%\n",
            "Epoch 86/250, Training Loss: 0.6376 | Test accuracy: 83.63%\n",
            "Epoch 87/250, Training Loss: 0.6309 | Test accuracy: 83.77%\n",
            "Epoch 88/250, Training Loss: 0.6243 | Test accuracy: 83.89%\n",
            "Epoch 89/250, Training Loss: 0.6180 | Test accuracy: 84.02%\n",
            "Epoch 90/250, Training Loss: 0.6119 | Test accuracy: 84.14%\n",
            "Epoch 91/250, Training Loss: 0.6059 | Test accuracy: 84.31%\n",
            "Epoch 92/250, Training Loss: 0.6001 | Test accuracy: 84.45%\n",
            "Epoch 93/250, Training Loss: 0.5945 | Test accuracy: 84.58%\n",
            "Epoch 94/250, Training Loss: 0.5890 | Test accuracy: 84.68%\n",
            "Epoch 95/250, Training Loss: 0.5837 | Test accuracy: 84.79%\n",
            "Epoch 96/250, Training Loss: 0.5785 | Test accuracy: 84.89%\n",
            "Epoch 97/250, Training Loss: 0.5735 | Test accuracy: 84.96%\n",
            "Epoch 98/250, Training Loss: 0.5687 | Test accuracy: 85.08%\n",
            "Epoch 99/250, Training Loss: 0.5639 | Test accuracy: 85.19%\n",
            "Epoch 100/250, Training Loss: 0.5593 | Test accuracy: 85.31%\n",
            "Epoch 101/250, Training Loss: 0.5548 | Test accuracy: 85.41%\n",
            "Epoch 102/250, Training Loss: 0.5504 | Test accuracy: 85.51%\n",
            "Epoch 103/250, Training Loss: 0.5462 | Test accuracy: 85.59%\n",
            "Epoch 104/250, Training Loss: 0.5420 | Test accuracy: 85.68%\n",
            "Epoch 105/250, Training Loss: 0.5380 | Test accuracy: 85.75%\n",
            "Epoch 106/250, Training Loss: 0.5341 | Test accuracy: 85.82%\n",
            "Epoch 107/250, Training Loss: 0.5302 | Test accuracy: 85.89%\n",
            "Epoch 108/250, Training Loss: 0.5265 | Test accuracy: 85.99%\n",
            "Epoch 109/250, Training Loss: 0.5229 | Test accuracy: 86.05%\n",
            "Epoch 110/250, Training Loss: 0.5193 | Test accuracy: 86.16%\n",
            "Epoch 111/250, Training Loss: 0.5158 | Test accuracy: 86.23%\n",
            "Epoch 112/250, Training Loss: 0.5125 | Test accuracy: 86.30%\n",
            "Epoch 113/250, Training Loss: 0.5092 | Test accuracy: 86.39%\n",
            "Epoch 114/250, Training Loss: 0.5059 | Test accuracy: 86.45%\n",
            "Epoch 115/250, Training Loss: 0.5028 | Test accuracy: 86.52%\n",
            "Epoch 116/250, Training Loss: 0.4997 | Test accuracy: 86.59%\n",
            "Epoch 117/250, Training Loss: 0.4967 | Test accuracy: 86.67%\n",
            "Epoch 118/250, Training Loss: 0.4938 | Test accuracy: 86.72%\n",
            "Epoch 119/250, Training Loss: 0.4909 | Test accuracy: 86.77%\n",
            "Epoch 120/250, Training Loss: 0.4882 | Test accuracy: 86.83%\n",
            "Epoch 121/250, Training Loss: 0.4854 | Test accuracy: 86.90%\n",
            "Epoch 122/250, Training Loss: 0.4828 | Test accuracy: 86.95%\n",
            "Epoch 123/250, Training Loss: 0.4802 | Test accuracy: 87.00%\n",
            "Epoch 124/250, Training Loss: 0.4776 | Test accuracy: 87.07%\n",
            "Epoch 125/250, Training Loss: 0.4751 | Test accuracy: 87.13%\n",
            "Epoch 126/250, Training Loss: 0.4727 | Test accuracy: 87.19%\n",
            "Epoch 127/250, Training Loss: 0.4703 | Test accuracy: 87.26%\n",
            "Epoch 128/250, Training Loss: 0.4680 | Test accuracy: 87.31%\n",
            "Epoch 129/250, Training Loss: 0.4657 | Test accuracy: 87.38%\n",
            "Epoch 130/250, Training Loss: 0.4635 | Test accuracy: 87.43%\n",
            "Epoch 131/250, Training Loss: 0.4613 | Test accuracy: 87.48%\n",
            "Epoch 132/250, Training Loss: 0.4591 | Test accuracy: 87.54%\n",
            "Epoch 133/250, Training Loss: 0.4570 | Test accuracy: 87.59%\n",
            "Epoch 134/250, Training Loss: 0.4550 | Test accuracy: 87.62%\n",
            "Epoch 135/250, Training Loss: 0.4530 | Test accuracy: 87.66%\n",
            "Epoch 136/250, Training Loss: 0.4510 | Test accuracy: 87.70%\n",
            "Epoch 137/250, Training Loss: 0.4491 | Test accuracy: 87.74%\n",
            "Epoch 138/250, Training Loss: 0.4472 | Test accuracy: 87.78%\n",
            "Epoch 139/250, Training Loss: 0.4453 | Test accuracy: 87.81%\n",
            "Epoch 140/250, Training Loss: 0.4435 | Test accuracy: 87.84%\n",
            "Epoch 141/250, Training Loss: 0.4418 | Test accuracy: 87.91%\n",
            "Epoch 142/250, Training Loss: 0.4400 | Test accuracy: 87.94%\n",
            "Epoch 143/250, Training Loss: 0.4383 | Test accuracy: 87.98%\n",
            "Epoch 144/250, Training Loss: 0.4366 | Test accuracy: 88.00%\n",
            "Epoch 145/250, Training Loss: 0.4350 | Test accuracy: 88.02%\n",
            "Epoch 146/250, Training Loss: 0.4333 | Test accuracy: 88.08%\n",
            "Epoch 147/250, Training Loss: 0.4318 | Test accuracy: 88.09%\n",
            "Epoch 148/250, Training Loss: 0.4302 | Test accuracy: 88.13%\n",
            "Epoch 149/250, Training Loss: 0.4287 | Test accuracy: 88.18%\n",
            "Epoch 150/250, Training Loss: 0.4272 | Test accuracy: 88.22%\n",
            "Epoch 151/250, Training Loss: 0.4257 | Test accuracy: 88.26%\n",
            "Epoch 152/250, Training Loss: 0.4242 | Test accuracy: 88.28%\n",
            "Epoch 153/250, Training Loss: 0.4228 | Test accuracy: 88.31%\n",
            "Epoch 154/250, Training Loss: 0.4214 | Test accuracy: 88.38%\n",
            "Epoch 155/250, Training Loss: 0.4201 | Test accuracy: 88.37%\n",
            "Epoch 156/250, Training Loss: 0.4187 | Test accuracy: 88.45%\n",
            "Epoch 157/250, Training Loss: 0.4174 | Test accuracy: 88.43%\n",
            "Epoch 158/250, Training Loss: 0.4161 | Test accuracy: 88.50%\n",
            "Epoch 159/250, Training Loss: 0.4148 | Test accuracy: 88.50%\n",
            "Epoch 160/250, Training Loss: 0.4136 | Test accuracy: 88.56%\n",
            "Epoch 161/250, Training Loss: 0.4124 | Test accuracy: 88.53%\n",
            "Epoch 162/250, Training Loss: 0.4112 | Test accuracy: 88.62%\n",
            "Epoch 163/250, Training Loss: 0.4101 | Test accuracy: 88.58%\n",
            "Epoch 164/250, Training Loss: 0.4090 | Test accuracy: 88.68%\n",
            "Epoch 165/250, Training Loss: 0.4079 | Test accuracy: 88.59%\n",
            "Epoch 166/250, Training Loss: 0.4070 | Test accuracy: 88.72%\n",
            "Epoch 167/250, Training Loss: 0.4060 | Test accuracy: 88.60%\n",
            "Epoch 168/250, Training Loss: 0.4052 | Test accuracy: 88.77%\n",
            "Epoch 169/250, Training Loss: 0.4044 | Test accuracy: 88.62%\n",
            "Epoch 170/250, Training Loss: 0.4038 | Test accuracy: 88.79%\n",
            "Epoch 171/250, Training Loss: 0.4032 | Test accuracy: 88.61%\n",
            "Epoch 172/250, Training Loss: 0.4029 | Test accuracy: 88.75%\n",
            "Epoch 173/250, Training Loss: 0.4026 | Test accuracy: 88.56%\n",
            "Epoch 174/250, Training Loss: 0.4028 | Test accuracy: 88.69%\n",
            "Epoch 175/250, Training Loss: 0.4029 | Test accuracy: 88.41%\n",
            "Epoch 176/250, Training Loss: 0.4040 | Test accuracy: 88.63%\n",
            "Epoch 177/250, Training Loss: 0.4044 | Test accuracy: 88.21%\n",
            "Epoch 178/250, Training Loss: 0.4068 | Test accuracy: 88.41%\n",
            "Epoch 179/250, Training Loss: 0.4075 | Test accuracy: 87.96%\n",
            "Epoch 180/250, Training Loss: 0.4116 | Test accuracy: 88.18%\n",
            "Epoch 181/250, Training Loss: 0.4122 | Test accuracy: 87.59%\n",
            "Epoch 182/250, Training Loss: 0.4182 | Test accuracy: 87.92%\n",
            "Epoch 183/250, Training Loss: 0.4176 | Test accuracy: 87.26%\n",
            "Epoch 184/250, Training Loss: 0.4248 | Test accuracy: 87.76%\n",
            "Epoch 185/250, Training Loss: 0.4217 | Test accuracy: 87.08%\n",
            "Epoch 186/250, Training Loss: 0.4284 | Test accuracy: 87.75%\n",
            "Epoch 187/250, Training Loss: 0.4220 | Test accuracy: 87.17%\n",
            "Epoch 188/250, Training Loss: 0.4258 | Test accuracy: 87.97%\n",
            "Epoch 189/250, Training Loss: 0.4170 | Test accuracy: 87.51%\n",
            "Epoch 190/250, Training Loss: 0.4173 | Test accuracy: 88.26%\n",
            "Epoch 191/250, Training Loss: 0.4084 | Test accuracy: 87.98%\n",
            "Epoch 192/250, Training Loss: 0.4063 | Test accuracy: 88.63%\n",
            "Epoch 193/250, Training Loss: 0.3991 | Test accuracy: 88.43%\n",
            "Epoch 194/250, Training Loss: 0.3961 | Test accuracy: 88.91%\n",
            "Epoch 195/250, Training Loss: 0.3910 | Test accuracy: 88.75%\n",
            "Epoch 196/250, Training Loss: 0.3883 | Test accuracy: 89.18%\n",
            "Epoch 197/250, Training Loss: 0.3849 | Test accuracy: 88.98%\n",
            "Epoch 198/250, Training Loss: 0.3827 | Test accuracy: 89.30%\n",
            "Epoch 199/250, Training Loss: 0.3804 | Test accuracy: 89.12%\n",
            "Epoch 200/250, Training Loss: 0.3787 | Test accuracy: 89.38%\n",
            "Epoch 201/250, Training Loss: 0.3770 | Test accuracy: 89.24%\n",
            "Epoch 202/250, Training Loss: 0.3757 | Test accuracy: 89.46%\n",
            "Epoch 203/250, Training Loss: 0.3745 | Test accuracy: 89.35%\n",
            "Epoch 204/250, Training Loss: 0.3734 | Test accuracy: 89.51%\n",
            "Epoch 205/250, Training Loss: 0.3723 | Test accuracy: 89.44%\n",
            "Epoch 206/250, Training Loss: 0.3714 | Test accuracy: 89.55%\n",
            "Epoch 207/250, Training Loss: 0.3705 | Test accuracy: 89.49%\n",
            "Epoch 208/250, Training Loss: 0.3697 | Test accuracy: 89.59%\n",
            "Epoch 209/250, Training Loss: 0.3689 | Test accuracy: 89.54%\n",
            "Epoch 210/250, Training Loss: 0.3681 | Test accuracy: 89.61%\n",
            "Epoch 211/250, Training Loss: 0.3674 | Test accuracy: 89.58%\n",
            "Epoch 212/250, Training Loss: 0.3667 | Test accuracy: 89.63%\n",
            "Epoch 213/250, Training Loss: 0.3660 | Test accuracy: 89.62%\n",
            "Epoch 214/250, Training Loss: 0.3653 | Test accuracy: 89.66%\n",
            "Epoch 215/250, Training Loss: 0.3646 | Test accuracy: 89.64%\n",
            "Epoch 216/250, Training Loss: 0.3639 | Test accuracy: 89.68%\n",
            "Epoch 217/250, Training Loss: 0.3633 | Test accuracy: 89.68%\n",
            "Epoch 218/250, Training Loss: 0.3626 | Test accuracy: 89.70%\n",
            "Epoch 219/250, Training Loss: 0.3620 | Test accuracy: 89.71%\n",
            "Epoch 220/250, Training Loss: 0.3614 | Test accuracy: 89.72%\n",
            "Epoch 221/250, Training Loss: 0.3608 | Test accuracy: 89.73%\n",
            "Epoch 222/250, Training Loss: 0.3601 | Test accuracy: 89.75%\n",
            "Epoch 223/250, Training Loss: 0.3595 | Test accuracy: 89.77%\n",
            "Epoch 224/250, Training Loss: 0.3589 | Test accuracy: 89.78%\n",
            "Epoch 225/250, Training Loss: 0.3583 | Test accuracy: 89.79%\n",
            "Epoch 226/250, Training Loss: 0.3577 | Test accuracy: 89.81%\n",
            "Epoch 227/250, Training Loss: 0.3571 | Test accuracy: 89.83%\n",
            "Epoch 228/250, Training Loss: 0.3566 | Test accuracy: 89.84%\n",
            "Epoch 229/250, Training Loss: 0.3560 | Test accuracy: 89.86%\n",
            "Epoch 230/250, Training Loss: 0.3554 | Test accuracy: 89.88%\n",
            "Epoch 231/250, Training Loss: 0.3548 | Test accuracy: 89.89%\n",
            "Epoch 232/250, Training Loss: 0.3543 | Test accuracy: 89.91%\n",
            "Epoch 233/250, Training Loss: 0.3537 | Test accuracy: 89.92%\n",
            "Epoch 234/250, Training Loss: 0.3532 | Test accuracy: 89.94%\n",
            "Epoch 235/250, Training Loss: 0.3526 | Test accuracy: 89.94%\n",
            "Epoch 236/250, Training Loss: 0.3521 | Test accuracy: 89.95%\n",
            "Epoch 237/250, Training Loss: 0.3515 | Test accuracy: 89.97%\n",
            "Epoch 238/250, Training Loss: 0.3510 | Test accuracy: 90.00%\n",
            "Epoch 239/250, Training Loss: 0.3504 | Test accuracy: 90.00%\n",
            "Epoch 240/250, Training Loss: 0.3499 | Test accuracy: 90.03%\n",
            "Epoch 241/250, Training Loss: 0.3494 | Test accuracy: 90.03%\n",
            "Epoch 242/250, Training Loss: 0.3488 | Test accuracy: 90.04%\n",
            "Epoch 243/250, Training Loss: 0.3483 | Test accuracy: 90.05%\n",
            "Epoch 244/250, Training Loss: 0.3478 | Test accuracy: 90.08%\n",
            "Epoch 245/250, Training Loss: 0.3473 | Test accuracy: 90.09%\n",
            "Epoch 246/250, Training Loss: 0.3468 | Test accuracy: 90.10%\n",
            "Epoch 247/250, Training Loss: 0.3463 | Test accuracy: 90.11%\n",
            "Epoch 248/250, Training Loss: 0.3458 | Test accuracy: 90.12%\n",
            "Epoch 249/250, Training Loss: 0.3453 | Test accuracy: 90.14%\n",
            "Epoch 250/250, Training Loss: 0.3448 | Test accuracy: 90.15%\n"
          ]
        }
      ],
      "source": [
        "# Hyperparameters\n",
        "input_size = 784  # 28x28 pixels\n",
        "hidden_size1 = 128\n",
        "hidden_size2 = 64\n",
        "output_size = 10  # 10 digits\n",
        "learning_rate = 0.003\n",
        "epochs = 250\n",
        "\n",
        "acc = []\n",
        "l = []\n",
        "\n",
        "# Initialize the neural network\n",
        "nn = NeuralNetwork(input_size, hidden_size1, hidden_size2, output_size)\n",
        "\n",
        "# Training loop\n",
        "for epoch in range(epochs):\n",
        "    # Forward pass\n",
        "    output = nn.forward(trainImages)\n",
        "\n",
        "    # Compute loss\n",
        "    loss = nn.cross_entropy_loss(trainLabels, output)\n",
        "\n",
        "    # Backward pass\n",
        "    nn.backward(trainImages, trainLabels, output, learning_rate)\n",
        "\n",
        "    # Predict on the test set\n",
        "    test_predictions = nn.predict(testImages)\n",
        "\n",
        "    # Ensure that test_labels and test_predictions are numpy arrays\n",
        "    test_labels = np.array(testLabels)\n",
        "    test_predictions = np.array(test_predictions)\n",
        "\n",
        "    # Calculate accuracy\n",
        "    accuracy = np.mean(test_predictions == test_labels) * 100\n",
        "\n",
        "    acc.append(accuracy)\n",
        "    l.append(loss)\n",
        "\n",
        "    print(f\"Epoch {epoch + 1}/{epochs}, Training Loss: {loss:.4f} | Test accuracy: {accuracy:.2f}%\")\n",
        "\n",
        "    if accuracy > 95:\n",
        "      break\n"
      ]
    },
    {
      "cell_type": "code",
      "execution_count": 14,
      "metadata": {
        "colab": {
          "base_uri": "https://localhost:8080/",
          "height": 472
        },
        "id": "vsBVYQKX2IS-",
        "outputId": "075ecf22-e38b-45e1-8486-eca73b5e3148"
      },
      "outputs": [
        {
          "data": {
            "image/png": "[encoded data removed]",
            "text/plain": [
              "<Figure size 640x480 with 1 Axes>"
            ]
          },
          "metadata": {},
          "output_type": "display_data"
        }
      ],
      "source": [
        "plt.plot(range(epochs), l, label='Training Loss')\n",
        "plt.xlabel('Epochs')\n",
        "plt.ylabel('Loss')\n",
        "plt.title('Loss Over Epochs')\n",
        "plt.legend()\n",
        "plt.show()"
      ]
    },
    {
      "cell_type": "code",
      "execution_count": 15,
      "metadata": {
        "colab": {
          "base_uri": "https://localhost:8080/",
          "height": 472
        },
        "id": "eSbBxFPt2cna",
        "outputId": "185bd83e-8266-4663-81f9-5cc7b4d0b2a7"
      },
      "outputs": [
        {
          "data": {
            "image/png": "[encoded data removed]",
            "text/plain": [
              "<Figure size 640x480 with 1 Axes>"
            ]
          },
          "metadata": {},
          "output_type": "display_data"
        }
      ],
      "source": [
        "plt.plot(range(epochs), acc, label='Test Accuracy')\n",
        "plt.xlabel('Epochs')\n",
        "plt.ylabel('Accuracy')\n",
        "plt.title('Accuracy Over Epochs')\n",
        "plt.legend()\n",
        "plt.show()"
      ]
    },
    {
      "cell_type": "code",
      "execution_count": 17,
      "metadata": {},
      "outputs": [
        {
          "name": "stdout",
          "output_type": "stream",
          "text": [
            "Final Loss:  0.34477623587756906\n",
            "Final Accuracy:  90.14833333333333\n"
          ]
        }
      ],
      "source": [
        "print(\"Final Loss: \", l[-1])\n",
        "print(\"Final Accuracy: \", acc[-1])"
      ]
    },
    {
      "cell_type": "code",
      "execution_count": 29,
      "metadata": {
        "colab": {
          "base_uri": "https://localhost:8080/",
          "height": 445
        },
        "id": "AqS-dekeGVfY",
        "outputId": "e35049dd-681b-464f-dec8-a2262629c7bb"
      },
      "outputs": [
        {
          "name": "stdout",
          "output_type": "stream",
          "text": [
            "Predicted Label: 5, Actual Label: 5\n"
          ]
        },
        {
          "data": {
            "image/png": "[encoded data removed]",
            "text/plain": [
              "<Figure size 640x480 with 1 Axes>"
            ]
          },
          "metadata": {},
          "output_type": "display_data"
        }
      ],
      "source": [
        "pred = nn.predict(valImages)\n",
        "actual = np.array(valLabels)\n",
        "n =  random.randint(0, 9999)\n",
        "\n",
        "print(f\"Predicted Label: {pred[n]}, Actual Label: {actual[n]}\")\n",
        "displayImage(valImages[n], pred[n])"
      ]
    }
  ],
  "metadata": {
    "colab": {
      "provenance": []
    },
    "kernelspec": {
      "display_name": "py8",
      "language": "python",
      "name": "python3"
    },
    "language_info": {
      "codemirror_mode": {
        "name": "ipython",
        "version": 3
      },
      "file_extension": ".py",
      "mimetype": "text/x-python",
      "name": "python",
      "nbconvert_exporter": "python",
      "pygments_lexer": "ipython3",
      "version": "3.8.19"
    }
  },
  "nbformat": 4,
  "nbformat_minor": 0
}
